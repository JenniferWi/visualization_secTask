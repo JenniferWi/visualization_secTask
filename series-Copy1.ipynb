{
 "cells": [
  {
   "cell_type": "code",
   "execution_count": 27,
   "metadata": {
    "collapsed": true
   },
   "outputs": [],
   "source": [
    "import pandas as pd\n",
    "import numpy as np\n",
    "\n",
    "%matplotlib inline"
   ]
  },
  {
   "cell_type": "code",
   "execution_count": 28,
   "metadata": {},
   "outputs": [],
   "source": [
    "# read in all the data\n",
    "ratings_dtype = {\n",
    "    'tconst': str,\n",
    "    'averageRating': float,\n",
    "    'numVotes': int\n",
    "}\n",
    "\n",
    "ratings = pd.read_csv('./title.ratings.tsv.gz', sep='\\t', header=0, dtype=ratings_dtype)\n",
    "\n",
    "principals_dtype = {\n",
    "    'tconst': str,\n",
    "    'principalCast': object\n",
    "}\n",
    "\n",
    "principals = pd.read_csv('./title.principals.tsv.gz', sep='\\t', header=0, dtype=principals_dtype)\n",
    "\n",
    "basics_dtype = {\n",
    "    'tconst': str,\n",
    "    'titleType': str,\n",
    "    'primaryTitle': str,\n",
    "    'originalTitle': str,\n",
    "    'isAdult': int,\n",
    "    'startYear': str,\n",
    "    'endYear': str,\n",
    "    'runtimeMinutes': object,\n",
    "    'genres': str\n",
    "}\n",
    "\n",
    "basics = pd.read_csv('./title.basics.tsv.gz', sep='\\t', header=0, dtype=basics_dtype)"
   ]
  },
  {
   "cell_type": "code",
   "execution_count": 5,
   "metadata": {
    "collapsed": true
   },
   "outputs": [],
   "source": [
    "# just take the three top-billed principals of the movie and delete columns we don't need\n",
    "principals =  principals[principals['ordering'] <= 3]\n",
    "principals =  principals[['tconst', 'ordering', 'nconst']]"
   ]
  },
  {
   "cell_type": "code",
   "execution_count": 6,
   "metadata": {
    "collapsed": true
   },
   "outputs": [],
   "source": [
    "# extract tv-series\n",
    "series  =  basics[basics['titleType'] == 'tvSeries']\n",
    "series = series[['tconst']]"
   ]
  },
  {
   "cell_type": "code",
   "execution_count": 7,
   "metadata": {
    "collapsed": true
   },
   "outputs": [],
   "source": [
    "data = pd.merge(series, pd.merge(ratings, principals), how='inner')"
   ]
  },
  {
   "cell_type": "code",
   "execution_count": 8,
   "metadata": {},
   "outputs": [
    {
     "data": {
      "text/html": [
       "<div>\n",
       "<style>\n",
       "    .dataframe thead tr:only-child th {\n",
       "        text-align: right;\n",
       "    }\n",
       "\n",
       "    .dataframe thead th {\n",
       "        text-align: left;\n",
       "    }\n",
       "\n",
       "    .dataframe tbody tr th {\n",
       "        vertical-align: top;\n",
       "    }\n",
       "</style>\n",
       "<table border=\"1\" class=\"dataframe\">\n",
       "  <thead>\n",
       "    <tr style=\"text-align: right;\">\n",
       "      <th></th>\n",
       "      <th>tconst</th>\n",
       "      <th>averageRating</th>\n",
       "      <th>numVotes</th>\n",
       "      <th>ordering</th>\n",
       "      <th>nconst</th>\n",
       "    </tr>\n",
       "  </thead>\n",
       "  <tbody>\n",
       "    <tr>\n",
       "      <th>0</th>\n",
       "      <td>tt0039120</td>\n",
       "      <td>3.7</td>\n",
       "      <td>6</td>\n",
       "      <td>1</td>\n",
       "      <td>nm0113897</td>\n",
       "    </tr>\n",
       "    <tr>\n",
       "      <th>1</th>\n",
       "      <td>tt0039120</td>\n",
       "      <td>3.7</td>\n",
       "      <td>6</td>\n",
       "      <td>2</td>\n",
       "      <td>nm0274631</td>\n",
       "    </tr>\n",
       "    <tr>\n",
       "      <th>2</th>\n",
       "      <td>tt0039120</td>\n",
       "      <td>3.7</td>\n",
       "      <td>6</td>\n",
       "      <td>3</td>\n",
       "      <td>nm0240118</td>\n",
       "    </tr>\n",
       "    <tr>\n",
       "      <th>3</th>\n",
       "      <td>tt0039123</td>\n",
       "      <td>8.5</td>\n",
       "      <td>108</td>\n",
       "      <td>1</td>\n",
       "      <td>nm0853299</td>\n",
       "    </tr>\n",
       "    <tr>\n",
       "      <th>4</th>\n",
       "      <td>tt0039123</td>\n",
       "      <td>8.5</td>\n",
       "      <td>108</td>\n",
       "      <td>2</td>\n",
       "      <td>nm0379051</td>\n",
       "    </tr>\n",
       "  </tbody>\n",
       "</table>\n",
       "</div>"
      ],
      "text/plain": [
       "      tconst  averageRating  numVotes  ordering     nconst\n",
       "0  tt0039120            3.7         6         1  nm0113897\n",
       "1  tt0039120            3.7         6         2  nm0274631\n",
       "2  tt0039120            3.7         6         3  nm0240118\n",
       "3  tt0039123            8.5       108         1  nm0853299\n",
       "4  tt0039123            8.5       108         2  nm0379051"
      ]
     },
     "execution_count": 8,
     "metadata": {},
     "output_type": "execute_result"
    }
   ],
   "source": [
    "data.head()"
   ]
  },
  {
   "cell_type": "code",
   "execution_count": 9,
   "metadata": {
    "collapsed": true
   },
   "outputs": [],
   "source": [
    "# in how many series does the principal attend (relating to this dataset)\n",
    "# I suppose that a principal, wich takes part in many series is more important -> how does the importance have impact on rating of series\n",
    "data['principalCount'] = pd.Series(np.zeros(data.shape[0]))\n",
    "# what's the average rating of the films with this pricipal (relating to this dataset)\n",
    "data['principalAverageRating'] = pd.Series(np.zeros(data.shape[0]))"
   ]
  },
  {
   "cell_type": "code",
   "execution_count": 10,
   "metadata": {
    "collapsed": true
   },
   "outputs": [],
   "source": [
    "principalDict = data['nconst'].value_counts().to_dict()"
   ]
  },
  {
   "cell_type": "code",
   "execution_count": 13,
   "metadata": {
    "collapsed": true
   },
   "outputs": [],
   "source": [
    "sumAverageRatingDict = {}"
   ]
  },
  {
   "cell_type": "code",
   "execution_count": 14,
   "metadata": {
    "collapsed": true,
    "scrolled": true
   },
   "outputs": [],
   "source": [
    "data = data.sort_values(by=['nconst'])"
   ]
  },
  {
   "cell_type": "code",
   "execution_count": 22,
   "metadata": {},
   "outputs": [],
   "source": [
    "# iterate over dataframe \"data\" and fill dictionary \"sumAverageRatingDict\" with sum of average rating of series with this principal\n",
    "for i, line in data.iterrows():\n",
    "    value = line['nconst']\n",
    "    if value in sumAverageRatingDict:\n",
    "        rating = sumAverageRatingDict[value]\n",
    "        sumAverageRatingDict[value] = rating + line['averageRating']\n",
    "    else:\n",
    "        sumAverageRatingDict[value] = line['averageRating']"
   ]
  },
  {
   "cell_type": "code",
   "execution_count": 23,
   "metadata": {
    "collapsed": true
   },
   "outputs": [],
   "source": [
    "# fill the new columns of the dataset\n",
    "for i, line in data.iterrows():\n",
    "    value = line['nconst']\n",
    "    data.set_value(i, 'principalCount', principalDict[value])\n",
    "    ave = sumAverageRatingDict[value] / principalDict[value]\n",
    "    data.set_value(i, 'principalAverageRating', ave)"
   ]
  },
  {
   "cell_type": "code",
   "execution_count": 26,
   "metadata": {},
   "outputs": [
    {
     "data": {
      "text/plain": [
       "<matplotlib.axes._subplots.AxesSubplot at 0x1bb2febbe10>"
      ]
     },
     "execution_count": 26,
     "metadata": {},
     "output_type": "execute_result"
    },
    {
     "data": {
      "image/png": "[encoded data removed]",
      "text/plain": [
       "<matplotlib.figure.Figure at 0x1bb7f80e240>"
      ]
     },
     "metadata": {},
     "output_type": "display_data"
    }
   ],
   "source": [
    "data.plot(x='principalAverageRating', y='principalCount', style='o')"
   ]
  },
  {
   "cell_type": "markdown",
   "metadata": {},
   "source": [
    "### seems like series with more important principals are higher rated"
   ]
  },
  {
   "cell_type": "code",
   "execution_count": null,
   "metadata": {
    "collapsed": true
   },
   "outputs": [],
   "source": []
  }
 ],
 "metadata": {
  "kernelspec": {
   "display_name": "Python 3",
   "language": "python",
   "name": "python3"
  },
  "language_info": {
   "codemirror_mode": {
    "name": "ipython",
    "version": 3
   },
   "file_extension": ".py",
   "mimetype": "text/x-python",
   "name": "python",
   "nbconvert_exporter": "python",
   "pygments_lexer": "ipython3",
   "version": "3.6.3"
  }
 },
 "nbformat": 4,
 "nbformat_minor": 2
}
