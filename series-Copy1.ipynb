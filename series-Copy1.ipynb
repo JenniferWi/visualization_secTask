{
 "cells": [
  {
   "cell_type": "code",
   "execution_count": 1,
   "metadata": {
    "slideshow": {
     "slide_type": "skip"
    }
   },
   "outputs": [],
   "source": [
    "import pandas as pd\n",
    "import numpy as np\n",
    "\n",
    "%matplotlib inline"
   ]
  },
  {
   "cell_type": "markdown",
   "metadata": {
    "slideshow": {
     "slide_type": "slide"
    }
   },
   "source": [
    "### We want to find out if the popularity of the actors of a tv serie has an impact on the rating of the serie.\n",
    "\n",
    "##### First we read in all the data we need."
   ]
  },
  {
   "cell_type": "code",
   "execution_count": 2,
   "metadata": {
    "collapsed": true,
    "slideshow": {
     "slide_type": "skip"
    }
   },
   "outputs": [],
   "source": [
    "ratings_dtype = {\n",
    "    'tconst': str,\n",
    "    'averageRating': float,\n",
    "    'numVotes': int\n",
    "}\n",
    "\n",
    "ratings = pd.read_csv('./title.ratings.tsv.gz', sep='\\t', header=0, dtype=ratings_dtype)\n",
    "\n",
    "principals_dtype = {\n",
    "    'tconst': str,\n",
    "    'principalCast': object\n",
    "}\n",
    "\n",
    "principals = pd.read_csv('./title.principals.tsv.gz', sep='\\t', header=0, dtype=principals_dtype)\n",
    "\n",
    "basics_dtype = {\n",
    "    'tconst': str,\n",
    "    'titleType': str,\n",
    "    'primaryTitle': str,\n",
    "    'originalTitle': str,\n",
    "    'isAdult': int,\n",
    "    'startYear': str,\n",
    "    'endYear': str,\n",
    "    'runtimeMinutes': object,\n",
    "    'genres': str\n",
    "}\n",
    "\n",
    "basics = pd.read_csv('./title.basics.tsv.gz', sep='\\t', header=0, dtype=basics_dtype)"
   ]
  },
  {
   "cell_type": "markdown",
   "metadata": {
    "slideshow": {
     "slide_type": "subslide"
    }
   },
   "source": [
    "###### The dataset \"rating\" contains a string for the title of the tv serie, the average rating and the number of votes. The dataset \"principal\" also contains the string for the title of the tv serie and a principalCast object, wich contains a string for each crew member, wich category he or she belongs to (for example director, cinematographer, composer, actor etc.), the job, the character he or she is playing and an ordering for the payment. Unfortunately we don't know how well they are payed, only the ordering. \n",
    "###### The \"basics\" dataset contains among other things the titleType like \"short\", \"movie\" or \"tvSeries\", wich we need to filter out the series.\n",
    "##### In the next step we delete the columns and rows we don't need and merge the datasets to one."
   ]
  },
  {
   "cell_type": "code",
   "execution_count": 3,
   "metadata": {
    "collapsed": true,
    "slideshow": {
     "slide_type": "fragment"
    }
   },
   "outputs": [],
   "source": [
    "ratings = ratings[['tconst', 'averageRating']]\n",
    "\n",
    "actors = principals[principals['category'] == 'actor']\n",
    "actors =  actors[['tconst', 'ordering', 'nconst']]\n",
    "\n",
    "series  =  basics[basics['titleType'] == 'tvSeries']\n",
    "series = series[['tconst']]"
   ]
  },
  {
   "cell_type": "code",
   "execution_count": 64,
   "metadata": {
    "collapsed": true,
    "slideshow": {
     "slide_type": "fragment"
    }
   },
   "outputs": [],
   "source": [
    "data = pd.merge(series, pd.merge(ratings, actors), how='inner')"
   ]
  },
  {
   "cell_type": "code",
   "execution_count": 65,
   "metadata": {
    "slideshow": {
     "slide_type": "fragment"
    }
   },
   "outputs": [
    {
     "data": {
      "text/html": [
       "<div>\n",
       "<style>\n",
       "    .dataframe thead tr:only-child th {\n",
       "        text-align: right;\n",
       "    }\n",
       "\n",
       "    .dataframe thead th {\n",
       "        text-align: left;\n",
       "    }\n",
       "\n",
       "    .dataframe tbody tr th {\n",
       "        vertical-align: top;\n",
       "    }\n",
       "</style>\n",
       "<table border=\"1\" class=\"dataframe\">\n",
       "  <thead>\n",
       "    <tr style=\"text-align: right;\">\n",
       "      <th></th>\n",
       "      <th>tconst</th>\n",
       "      <th>averageRating</th>\n",
       "      <th>ordering</th>\n",
       "      <th>nconst</th>\n",
       "    </tr>\n",
       "  </thead>\n",
       "  <tbody>\n",
       "    <tr>\n",
       "      <th>0</th>\n",
       "      <td>tt0039120</td>\n",
       "      <td>3.7</td>\n",
       "      <td>3</td>\n",
       "      <td>nm0240118</td>\n",
       "    </tr>\n",
       "    <tr>\n",
       "      <th>1</th>\n",
       "      <td>tt0039120</td>\n",
       "      <td>3.7</td>\n",
       "      <td>4</td>\n",
       "      <td>nm0416564</td>\n",
       "    </tr>\n",
       "    <tr>\n",
       "      <th>2</th>\n",
       "      <td>tt0039123</td>\n",
       "      <td>8.5</td>\n",
       "      <td>10</td>\n",
       "      <td>nm0453006</td>\n",
       "    </tr>\n",
       "    <tr>\n",
       "      <th>3</th>\n",
       "      <td>tt0039123</td>\n",
       "      <td>8.5</td>\n",
       "      <td>1</td>\n",
       "      <td>nm0853299</td>\n",
       "    </tr>\n",
       "    <tr>\n",
       "      <th>4</th>\n",
       "      <td>tt0039123</td>\n",
       "      <td>8.5</td>\n",
       "      <td>4</td>\n",
       "      <td>nm0550855</td>\n",
       "    </tr>\n",
       "  </tbody>\n",
       "</table>\n",
       "</div>"
      ],
      "text/plain": [
       "      tconst  averageRating  ordering     nconst\n",
       "0  tt0039120            3.7         3  nm0240118\n",
       "1  tt0039120            3.7         4  nm0416564\n",
       "2  tt0039123            8.5        10  nm0453006\n",
       "3  tt0039123            8.5         1  nm0853299\n",
       "4  tt0039123            8.5         4  nm0550855"
      ]
     },
     "execution_count": 65,
     "metadata": {},
     "output_type": "execute_result"
    }
   ],
   "source": [
    "data.head()"
   ]
  },
  {
   "cell_type": "markdown",
   "metadata": {
    "slideshow": {
     "slide_type": "slide"
    }
   },
   "source": [
    "##### In order to sort the actors according to popularity, we count the number of the series in wich the actor takes place. We call this information \"popularity\" and add it to our dataset. Also we calculate the average rating of all series in wich the actor takes play and call it \"seriesAverageRating\"."
   ]
  },
  {
   "cell_type": "code",
   "execution_count": 66,
   "metadata": {
    "collapsed": true,
    "slideshow": {
     "slide_type": "fragment"
    }
   },
   "outputs": [],
   "source": [
    "data['popularity'] = pd.Series(np.zeros(data.shape[0]))\n",
    "data['seriesAverageRating'] = pd.Series(np.zeros(data.shape[0]))"
   ]
  },
  {
   "cell_type": "code",
   "execution_count": 67,
   "metadata": {
    "collapsed": true,
    "slideshow": {
     "slide_type": "skip"
    }
   },
   "outputs": [],
   "source": [
    "actorsDict = data['nconst'].value_counts().to_dict()\n",
    "\n",
    "sumAverageRatingDict = {}\n",
    "\n",
    "data = data.sort_values(by=['nconst'])"
   ]
  },
  {
   "cell_type": "code",
   "execution_count": 68,
   "metadata": {
    "collapsed": true,
    "slideshow": {
     "slide_type": "skip"
    }
   },
   "outputs": [],
   "source": [
    "# iterate over dataframe \"data\" and fill dictionary \"sumAverageRatingDict\" with sum of average rating of series with this actor\n",
    "for i, line in data.iterrows():\n",
    "    value = line['nconst']\n",
    "    if value in sumAverageRatingDict:\n",
    "        rating = sumAverageRatingDict[value]\n",
    "        sumAverageRatingDict[value] = rating + line['averageRating']\n",
    "    else:\n",
    "        sumAverageRatingDict[value] = line['averageRating']"
   ]
  },
  {
   "cell_type": "code",
   "execution_count": 69,
   "metadata": {
    "collapsed": true,
    "slideshow": {
     "slide_type": "skip"
    }
   },
   "outputs": [],
   "source": [
    "# fill the new columns of the dataset\n",
    "def fillDataset(data, actorsDict, ratingDict):\n",
    "    for i, line in data.iterrows():\n",
    "        value = line['nconst']\n",
    "        data.set_value(i, 'popularity', actorsDict[value])\n",
    "        ave = ratingDict[value] / actorsDict[value]\n",
    "        data.set_value(i, 'seriesAverageRating', ave)"
   ]
  },
  {
   "cell_type": "code",
   "execution_count": 71,
   "metadata": {
    "slideshow": {
     "slide_type": "fragment"
    }
   },
   "outputs": [],
   "source": [
    "fillDataset(data, actorsDict, sumAverageRatingDict)"
   ]
  },
  {
   "cell_type": "markdown",
   "metadata": {
    "slideshow": {
     "slide_type": "slide"
    }
   },
   "source": [
    "##### Now we plot the new columns \"seriesAverageRating\" and \"seriesCount\" to see if in average series are better rated, when the actors are more popular."
   ]
  },
  {
   "cell_type": "code",
   "execution_count": 72,
   "metadata": {
    "slideshow": {
     "slide_type": "subslide"
    }
   },
   "outputs": [
    {
     "data": {
      "text/plain": [
       "<matplotlib.axes._subplots.AxesSubplot at 0x2158ae06390>"
      ]
     },
     "execution_count": 72,
     "metadata": {},
     "output_type": "execute_result"
    },
    {
     "data": {
      "image/png": "[encoded data removed]",
      "text/plain": [
       "<matplotlib.figure.Figure at 0x2158683a198>"
      ]
     },
     "metadata": {},
     "output_type": "display_data"
    }
   ],
   "source": [
    "data.plot(x='seriesAverageRating', y='popularity', style='o')"
   ]
  },
  {
   "cell_type": "markdown",
   "metadata": {
    "slideshow": {
     "slide_type": "notes"
    }
   },
   "source": [
    "##### We can see a tendency, maybe it gets clearer when we also consider the payment order of the actors, since more popular actors get better payed."
   ]
  },
  {
   "cell_type": "markdown",
   "metadata": {
    "collapsed": true,
    "slideshow": {
     "slide_type": "slide"
    }
   },
   "source": [
    "##### For that we only consider the top three actors of a serie regarding the payment and weight the rating of the serie according to the payment order."
   ]
  },
  {
   "cell_type": "code",
   "execution_count": 73,
   "metadata": {
    "collapsed": true,
    "slideshow": {
     "slide_type": "skip"
    }
   },
   "outputs": [],
   "source": [
    "data = data.sort_values(by=['tconst', 'ordering'])"
   ]
  },
  {
   "cell_type": "code",
   "execution_count": 74,
   "metadata": {
    "slideshow": {
     "slide_type": "skip"
    }
   },
   "outputs": [],
   "source": [
    "serie = 'tt0000000'\n",
    "counter = 3\n",
    "indexList = list()\n",
    "for i, line in data.iterrows():\n",
    "    nextSerie = line['tconst']\n",
    "    if nextSerie > serie:\n",
    "        serie = nextSerie\n",
    "        counter = 2\n",
    "    elif nextSerie == serie and counter == 0:\n",
    "        indexList.append(i)\n",
    "    else:\n",
    "        counter = counter - 1"
   ]
  },
  {
   "cell_type": "code",
   "execution_count": 75,
   "metadata": {
    "collapsed": true,
    "slideshow": {
     "slide_type": "skip"
    }
   },
   "outputs": [],
   "source": [
    "indexList = sorted(indexList, reverse=True)"
   ]
  },
  {
   "cell_type": "code",
   "execution_count": 78,
   "metadata": {
    "collapsed": true,
    "slideshow": {
     "slide_type": "skip"
    }
   },
   "outputs": [],
   "source": [
    "# droping the rows takes a lot of time\n",
    "for i in indexList:\n",
    "    data = data.drop(data.index[i])"
   ]
  },
  {
   "cell_type": "code",
   "execution_count": 79,
   "metadata": {
    "scrolled": true,
    "slideshow": {
     "slide_type": "skip"
    }
   },
   "outputs": [
    {
     "data": {
      "text/html": [
       "<div>\n",
       "<style>\n",
       "    .dataframe thead tr:only-child th {\n",
       "        text-align: right;\n",
       "    }\n",
       "\n",
       "    .dataframe thead th {\n",
       "        text-align: left;\n",
       "    }\n",
       "\n",
       "    .dataframe tbody tr th {\n",
       "        vertical-align: top;\n",
       "    }\n",
       "</style>\n",
       "<table border=\"1\" class=\"dataframe\">\n",
       "  <thead>\n",
       "    <tr style=\"text-align: right;\">\n",
       "      <th></th>\n",
       "      <th>tconst</th>\n",
       "      <th>averageRating</th>\n",
       "      <th>ordering</th>\n",
       "      <th>nconst</th>\n",
       "      <th>popularity</th>\n",
       "      <th>seriesAverageRating</th>\n",
       "    </tr>\n",
       "  </thead>\n",
       "  <tbody>\n",
       "    <tr>\n",
       "      <th>0</th>\n",
       "      <td>tt0039120</td>\n",
       "      <td>3.7</td>\n",
       "      <td>3</td>\n",
       "      <td>nm0240118</td>\n",
       "      <td>1.0</td>\n",
       "      <td>3.700000</td>\n",
       "    </tr>\n",
       "    <tr>\n",
       "      <th>1</th>\n",
       "      <td>tt0039120</td>\n",
       "      <td>3.7</td>\n",
       "      <td>4</td>\n",
       "      <td>nm0416564</td>\n",
       "      <td>2.0</td>\n",
       "      <td>5.550000</td>\n",
       "    </tr>\n",
       "    <tr>\n",
       "      <th>4</th>\n",
       "      <td>tt0039123</td>\n",
       "      <td>8.5</td>\n",
       "      <td>4</td>\n",
       "      <td>nm0550855</td>\n",
       "      <td>12.0</td>\n",
       "      <td>7.575000</td>\n",
       "    </tr>\n",
       "    <tr>\n",
       "      <th>5</th>\n",
       "      <td>tt0039123</td>\n",
       "      <td>8.5</td>\n",
       "      <td>5</td>\n",
       "      <td>nm0870038</td>\n",
       "      <td>6.0</td>\n",
       "      <td>7.866667</td>\n",
       "    </tr>\n",
       "    <tr>\n",
       "      <th>6</th>\n",
       "      <td>tt0039123</td>\n",
       "      <td>8.5</td>\n",
       "      <td>6</td>\n",
       "      <td>nm0549557</td>\n",
       "      <td>5.0</td>\n",
       "      <td>7.340000</td>\n",
       "    </tr>\n",
       "    <tr>\n",
       "      <th>9</th>\n",
       "      <td>tt0039125</td>\n",
       "      <td>5.9</td>\n",
       "      <td>1</td>\n",
       "      <td>nm0397397</td>\n",
       "      <td>4.0</td>\n",
       "      <td>6.425000</td>\n",
       "    </tr>\n",
       "    <tr>\n",
       "      <th>10</th>\n",
       "      <td>tt0039125</td>\n",
       "      <td>5.9</td>\n",
       "      <td>3</td>\n",
       "      <td>nm0761340</td>\n",
       "      <td>5.0</td>\n",
       "      <td>7.320000</td>\n",
       "    </tr>\n",
       "    <tr>\n",
       "      <th>11</th>\n",
       "      <td>tt0039125</td>\n",
       "      <td>5.9</td>\n",
       "      <td>4</td>\n",
       "      <td>nm0363515</td>\n",
       "      <td>4.0</td>\n",
       "      <td>7.100000</td>\n",
       "    </tr>\n",
       "    <tr>\n",
       "      <th>17</th>\n",
       "      <td>tt0040021</td>\n",
       "      <td>7.1</td>\n",
       "      <td>3</td>\n",
       "      <td>nm0358449</td>\n",
       "      <td>4.0</td>\n",
       "      <td>7.000000</td>\n",
       "    </tr>\n",
       "    <tr>\n",
       "      <th>18</th>\n",
       "      <td>tt0040021</td>\n",
       "      <td>7.1</td>\n",
       "      <td>5</td>\n",
       "      <td>nm0838057</td>\n",
       "      <td>3.0</td>\n",
       "      <td>7.800000</td>\n",
       "    </tr>\n",
       "  </tbody>\n",
       "</table>\n",
       "</div>"
      ],
      "text/plain": [
       "       tconst  averageRating  ordering     nconst  popularity  \\\n",
       "0   tt0039120            3.7         3  nm0240118         1.0   \n",
       "1   tt0039120            3.7         4  nm0416564         2.0   \n",
       "4   tt0039123            8.5         4  nm0550855        12.0   \n",
       "5   tt0039123            8.5         5  nm0870038         6.0   \n",
       "6   tt0039123            8.5         6  nm0549557         5.0   \n",
       "9   tt0039125            5.9         1  nm0397397         4.0   \n",
       "10  tt0039125            5.9         3  nm0761340         5.0   \n",
       "11  tt0039125            5.9         4  nm0363515         4.0   \n",
       "17  tt0040021            7.1         3  nm0358449         4.0   \n",
       "18  tt0040021            7.1         5  nm0838057         3.0   \n",
       "\n",
       "    seriesAverageRating  \n",
       "0              3.700000  \n",
       "1              5.550000  \n",
       "4              7.575000  \n",
       "5              7.866667  \n",
       "6              7.340000  \n",
       "9              6.425000  \n",
       "10             7.320000  \n",
       "11             7.100000  \n",
       "17             7.000000  \n",
       "18             7.800000  "
      ]
     },
     "execution_count": 79,
     "metadata": {},
     "output_type": "execute_result"
    }
   ],
   "source": [
    "data.head(10)"
   ]
  },
  {
   "cell_type": "code",
   "execution_count": 83,
   "metadata": {
    "slideshow": {
     "slide_type": "skip"
    }
   },
   "outputs": [],
   "source": [
    "actorsWeightedRating = {}\n",
    "\n",
    "serie = 'tt0000000'\n",
    "counter = 0\n",
    "for i, line in data.iterrows():\n",
    "    nextSerie = line['tconst']\n",
    "    actor = line['nconst']\n",
    "    if nextSerie > serie:\n",
    "        serie = nextSerie\n",
    "        counter = 3\n",
    "    else:\n",
    "        counter = counter - 1\n",
    "    \n",
    "    if actor in actorsWeightedRating:\n",
    "        actorsWeightedRating[actor] = actorsWeightedRating[actor] + line['averageRating'] * counter\n",
    "    else:\n",
    "        actorsWeightedRating[actor] = line['averageRating'] * counter"
   ]
  },
  {
   "cell_type": "code",
   "execution_count": 84,
   "metadata": {
    "scrolled": true,
    "slideshow": {
     "slide_type": "skip"
    }
   },
   "outputs": [],
   "source": [
    "actorsDict = data['nconst'].value_counts().to_dict()\n",
    "fillDataset(data, actorsDict, actorsWeightedRating)"
   ]
  },
  {
   "cell_type": "code",
   "execution_count": 85,
   "metadata": {
    "slideshow": {
     "slide_type": "skip"
    }
   },
   "outputs": [
    {
     "data": {
      "text/html": [
       "<div>\n",
       "<style>\n",
       "    .dataframe thead tr:only-child th {\n",
       "        text-align: right;\n",
       "    }\n",
       "\n",
       "    .dataframe thead th {\n",
       "        text-align: left;\n",
       "    }\n",
       "\n",
       "    .dataframe tbody tr th {\n",
       "        vertical-align: top;\n",
       "    }\n",
       "</style>\n",
       "<table border=\"1\" class=\"dataframe\">\n",
       "  <thead>\n",
       "    <tr style=\"text-align: right;\">\n",
       "      <th></th>\n",
       "      <th>tconst</th>\n",
       "      <th>averageRating</th>\n",
       "      <th>ordering</th>\n",
       "      <th>nconst</th>\n",
       "      <th>popularity</th>\n",
       "      <th>seriesAverageRating</th>\n",
       "    </tr>\n",
       "  </thead>\n",
       "  <tbody>\n",
       "    <tr>\n",
       "      <th>0</th>\n",
       "      <td>tt0039120</td>\n",
       "      <td>3.7</td>\n",
       "      <td>3</td>\n",
       "      <td>nm0240118</td>\n",
       "      <td>1.0</td>\n",
       "      <td>11.100000</td>\n",
       "    </tr>\n",
       "    <tr>\n",
       "      <th>1</th>\n",
       "      <td>tt0039120</td>\n",
       "      <td>3.7</td>\n",
       "      <td>4</td>\n",
       "      <td>nm0416564</td>\n",
       "      <td>2.0</td>\n",
       "      <td>7.400000</td>\n",
       "    </tr>\n",
       "    <tr>\n",
       "      <th>4</th>\n",
       "      <td>tt0039123</td>\n",
       "      <td>8.5</td>\n",
       "      <td>4</td>\n",
       "      <td>nm0550855</td>\n",
       "      <td>7.0</td>\n",
       "      <td>17.100000</td>\n",
       "    </tr>\n",
       "    <tr>\n",
       "      <th>5</th>\n",
       "      <td>tt0039123</td>\n",
       "      <td>8.5</td>\n",
       "      <td>5</td>\n",
       "      <td>nm0870038</td>\n",
       "      <td>4.0</td>\n",
       "      <td>19.350000</td>\n",
       "    </tr>\n",
       "    <tr>\n",
       "      <th>6</th>\n",
       "      <td>tt0039123</td>\n",
       "      <td>8.5</td>\n",
       "      <td>6</td>\n",
       "      <td>nm0549557</td>\n",
       "      <td>2.0</td>\n",
       "      <td>8.500000</td>\n",
       "    </tr>\n",
       "    <tr>\n",
       "      <th>9</th>\n",
       "      <td>tt0039125</td>\n",
       "      <td>5.9</td>\n",
       "      <td>1</td>\n",
       "      <td>nm0397397</td>\n",
       "      <td>3.0</td>\n",
       "      <td>15.833333</td>\n",
       "    </tr>\n",
       "    <tr>\n",
       "      <th>10</th>\n",
       "      <td>tt0039125</td>\n",
       "      <td>5.9</td>\n",
       "      <td>3</td>\n",
       "      <td>nm0761340</td>\n",
       "      <td>1.0</td>\n",
       "      <td>11.800000</td>\n",
       "    </tr>\n",
       "    <tr>\n",
       "      <th>11</th>\n",
       "      <td>tt0039125</td>\n",
       "      <td>5.9</td>\n",
       "      <td>4</td>\n",
       "      <td>nm0363515</td>\n",
       "      <td>3.0</td>\n",
       "      <td>7.000000</td>\n",
       "    </tr>\n",
       "    <tr>\n",
       "      <th>17</th>\n",
       "      <td>tt0040021</td>\n",
       "      <td>7.1</td>\n",
       "      <td>3</td>\n",
       "      <td>nm0358449</td>\n",
       "      <td>1.0</td>\n",
       "      <td>21.300000</td>\n",
       "    </tr>\n",
       "    <tr>\n",
       "      <th>18</th>\n",
       "      <td>tt0040021</td>\n",
       "      <td>7.1</td>\n",
       "      <td>5</td>\n",
       "      <td>nm0838057</td>\n",
       "      <td>2.0</td>\n",
       "      <td>15.600000</td>\n",
       "    </tr>\n",
       "  </tbody>\n",
       "</table>\n",
       "</div>"
      ],
      "text/plain": [
       "       tconst  averageRating  ordering     nconst  popularity  \\\n",
       "0   tt0039120            3.7         3  nm0240118         1.0   \n",
       "1   tt0039120            3.7         4  nm0416564         2.0   \n",
       "4   tt0039123            8.5         4  nm0550855         7.0   \n",
       "5   tt0039123            8.5         5  nm0870038         4.0   \n",
       "6   tt0039123            8.5         6  nm0549557         2.0   \n",
       "9   tt0039125            5.9         1  nm0397397         3.0   \n",
       "10  tt0039125            5.9         3  nm0761340         1.0   \n",
       "11  tt0039125            5.9         4  nm0363515         3.0   \n",
       "17  tt0040021            7.1         3  nm0358449         1.0   \n",
       "18  tt0040021            7.1         5  nm0838057         2.0   \n",
       "\n",
       "    seriesAverageRating  \n",
       "0             11.100000  \n",
       "1              7.400000  \n",
       "4             17.100000  \n",
       "5             19.350000  \n",
       "6              8.500000  \n",
       "9             15.833333  \n",
       "10            11.800000  \n",
       "11             7.000000  \n",
       "17            21.300000  \n",
       "18            15.600000  "
      ]
     },
     "execution_count": 85,
     "metadata": {},
     "output_type": "execute_result"
    }
   ],
   "source": [
    "data.head(10)"
   ]
  },
  {
   "cell_type": "markdown",
   "metadata": {
    "slideshow": {
     "slide_type": "slide"
    }
   },
   "source": [
    "##### Now let's see if the relation gets clearer."
   ]
  },
  {
   "cell_type": "code",
   "execution_count": 86,
   "metadata": {
    "slideshow": {
     "slide_type": "subslide"
    }
   },
   "outputs": [
    {
     "data": {
      "text/plain": [
       "<matplotlib.axes._subplots.AxesSubplot at 0x215853e62b0>"
      ]
     },
     "execution_count": 86,
     "metadata": {},
     "output_type": "execute_result"
    },
    {
     "data": {
      "image/png": "[encoded data removed]",
      "text/plain": [
       "<matplotlib.figure.Figure at 0x215853e6160>"
      ]
     },
     "metadata": {},
     "output_type": "display_data"
    }
   ],
   "source": [
    "data.plot(x='seriesAverageRating', y='popularity', style='o')"
   ]
  },
  {
   "cell_type": "markdown",
   "metadata": {
    "slideshow": {
     "slide_type": "notes"
    }
   },
   "source": [
    "##### We have a tendency again, but the correlation between popularity and rating seems not  stronger than before. Unfortunately we don't have an actual popularity measure in this dataset, like payment or a actors rating."
   ]
  }
 ],
 "metadata": {
  "celltoolbar": "Slideshow",
  "kernelspec": {
   "display_name": "Python 3",
   "language": "python",
   "name": "python3"
  },
  "language_info": {
   "codemirror_mode": {
    "name": "ipython",
    "version": 3
   },
   "file_extension": ".py",
   "mimetype": "text/x-python",
   "name": "python",
   "nbconvert_exporter": "python",
   "pygments_lexer": "ipython3",
   "version": "3.6.3"
  }
 },
 "nbformat": 4,
 "nbformat_minor": 2
}
